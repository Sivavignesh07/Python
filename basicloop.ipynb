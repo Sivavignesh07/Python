{
 "cells": [
  {
   "cell_type": "code",
   "execution_count": 11,
   "metadata": {},
   "outputs": [],
   "source": [
    "a=10"
   ]
  },
  {
   "cell_type": "code",
   "execution_count": 10,
   "metadata": {},
   "outputs": [
    {
     "name": "stdout",
     "output_type": "stream",
     "text": [
      "enter num 12\n",
      "my name is siva\n"
     ]
    }
   ],
   "source": [
    "a=int(input(\"enter num \"))\n",
    "if a < 15:\n",
    "    print(\"my name is siva\")\n",
    "else:\n",
    "    print(\"Error\")"
   ]
  },
  {
   "cell_type": "code",
   "execution_count": 15,
   "metadata": {},
   "outputs": [
    {
     "ename": "IndentationError",
     "evalue": "expected an indented block (<ipython-input-15-4fb32efa214f>, line 2)",
     "output_type": "error",
     "traceback": [
      "\u001b[1;36m  File \u001b[1;32m\"<ipython-input-15-4fb32efa214f>\"\u001b[1;36m, line \u001b[1;32m2\u001b[0m\n\u001b[1;33m    print(\"Asdf\")\u001b[0m\n\u001b[1;37m        ^\u001b[0m\n\u001b[1;31mIndentationError\u001b[0m\u001b[1;31m:\u001b[0m expected an indented block\n"
     ]
    }
   ],
   "source": [
    "if 24<15:\n",
    "print(\"Asdf\")"
   ]
  },
  {
   "cell_type": "code",
   "execution_count": 13,
   "metadata": {},
   "outputs": [
    {
     "name": "stdout",
     "output_type": "stream",
     "text": [
      "If statement is wrong\n"
     ]
    }
   ],
   "source": [
    "if 10<3:\n",
    "    print(\"10 is lesser than 3\")\n",
    "else:\n",
    "    print(\"If statement is wrong\")"
   ]
  },
  {
   "cell_type": "code",
   "execution_count": 14,
   "metadata": {},
   "outputs": [
    {
     "name": "stdout",
     "output_type": "stream",
     "text": [
      "3 is lesser than 5\n"
     ]
    }
   ],
   "source": [
    "if 3<5:\n",
    "    print(\"3 is lesser than 5\")\n",
    "else:\n",
    "    print(\"If statement is wrong\")"
   ]
  },
  {
   "cell_type": "code",
   "execution_count": 19,
   "metadata": {},
   "outputs": [
    {
     "name": "stdout",
     "output_type": "stream",
     "text": [
      "10\n",
      "I will be able to buy phone\n"
     ]
    }
   ],
   "source": [
    "income = int(input())\n",
    "if income<50:\n",
    "    print(\"I will be able to buy phone\")\n",
    "elif income<70:\n",
    "    print(\"I will be able to buy car\")\n",
    "else:\n",
    "    print(\"I wont be able to buy anything\")"
   ]
  },
  {
   "cell_type": "code",
   "execution_count": 22,
   "metadata": {},
   "outputs": [
    {
     "name": "stdout",
     "output_type": "stream",
     "text": [
      "7000\n",
      "Discount will be  350.0\n"
     ]
    }
   ],
   "source": [
    "Total_price=int(input())\n",
    "if Total_price>20000:\n",
    "    discount = Total_price*0.20\n",
    "    print(\"Discount will be \",discount)\n",
    "elif Total_price<=7000:\n",
    "    discount = Total_price*.05\n",
    "    print(\"Discount will be \",discount)\n",
    "else:\n",
    "    print(\"wont be able to give any discount\")\n",
    "    "
   ]
  },
  {
   "cell_type": "code",
   "execution_count": 4,
   "metadata": {
    "scrolled": true
   },
   "outputs": [
    {
     "name": "stdout",
     "output_type": "stream",
     "text": [
      "Siva5\n",
      "you will be able to get a discount of 5%\n",
      "you will be able to get this class with this amount  6650.0\n"
     ]
    }
   ],
   "source": [
    "coup= input()\n",
    "if coup==\"Siva5\":\n",
    "    print(\"you will be able to get a discount of 5%\")\n",
    "    paid_amount=7000-7000*0.05\n",
    "    print(\"you will be able to get this class with this amount \",paid_amount)\n",
    "else:\n",
    "    print(\"Kindly use valid coupoun code\")\n",
    "    \n"
   ]
  },
  {
   "cell_type": "code",
   "execution_count": 2,
   "metadata": {},
   "outputs": [
    {
     "name": "stdout",
     "output_type": "stream",
     "text": [
      "2\n",
      "It may take 6 month of time to make a transfer\n"
     ]
    }
   ],
   "source": [
    "study_hour=int(input())\n",
    "if study_hour<1:\n",
    "    print(\"It may take 8-9 month of time to make a transfer\")\n",
    "elif study_hour<4and study_hour>1:\n",
    "    print(\"It may take 6 month of time to make a transfer\")\n",
    "elif study_hour>10:\n",
    "    print(\"It may take 3 month of time to make a transfer\")\n",
    "else:\n",
    "    print(\"it will be difficult\")\n",
    "    \n",
    "    "
   ]
  },
  {
   "cell_type": "code",
   "execution_count": 2,
   "metadata": {},
   "outputs": [
    {
     "name": "stdout",
     "output_type": "stream",
     "text": [
      "enter a sring to start 1neuron\n",
      "Enter course name dsf\n",
      "Enter service name module\n",
      "Mention NA\n"
     ]
    }
   ],
   "source": [
    "s= input(\"enter a sring to start \")\n",
    "course=input(\"Enter course name \")\n",
    "service=input(\"Enter service name \")\n",
    "if s==\"1neuron\":\n",
    "    if course==\"dsa\":\n",
    "        print(\"Available\")\n",
    "    elif course==\"Blockchain\":\n",
    "        print(\"Not Available\")\n",
    "    elif course==\"fsds\":\n",
    "        print(\"Available start\")\n",
    "    else:\n",
    "        print(\"Mention NA\")\n",
    "elif s==\"1neuronservice\":\n",
    "    if service==\"courserequest\":\n",
    "        print(\"Available in 60days\")\n",
    "    elif service==\"module\":\n",
    "        print(\"Available in 30days\")\n",
    "    elif service==\"doubt\":\n",
    "        print(\"Available in 24hrs\")\n",
    "    elif service==\"workwithus\":\n",
    "        print(\"Team will see\")\n",
    "    else:\n",
    "        print(\"Feedback\")\n",
    "else:\n",
    "    print(\"Kindly connect with team\")\n",
    "        "
   ]
  },
  {
   "cell_type": "code",
   "execution_count": 3,
   "metadata": {},
   "outputs": [
    {
     "name": "stdout",
     "output_type": "stream",
     "text": [
      "1\n",
      "2\n",
      "3\n",
      "4\n",
      "5\n",
      "6\n",
      "7\n"
     ]
    }
   ],
   "source": [
    "l=[1,2,3,4,5,6,7]\n",
    "for i in l:\n",
    "    print(i)"
   ]
  },
  {
   "cell_type": "code",
   "execution_count": 2,
   "metadata": {},
   "outputs": [
    {
     "name": "stdout",
     "output_type": "stream",
     "text": [
      "s\n",
      "d\n",
      "f\n",
      "g\n"
     ]
    }
   ],
   "source": [
    "for i in \"sdfg\":\n",
    "    print(i)"
   ]
  },
  {
   "cell_type": "code",
   "execution_count": 3,
   "metadata": {},
   "outputs": [
    {
     "name": "stdout",
     "output_type": "stream",
     "text": [
      "1\n",
      "2\n",
      "3\n",
      "4\n",
      "5\n",
      "6\n"
     ]
    }
   ],
   "source": [
    "t=(1,2,3,4,5,6)\n",
    "for i in t:\n",
    "    print(i)\n",
    "    "
   ]
  },
  {
   "cell_type": "code",
   "execution_count": 6,
   "metadata": {},
   "outputs": [
    {
     "name": "stdout",
     "output_type": "stream",
     "text": [
      "<class 'int'> type of  1\n",
      "<class 'int'> type of  2\n",
      "<class 'float'> type of  4.5\n",
      "<class 'complex'> type of  (4+7j)\n",
      "<class 'str'> type of  sert\n"
     ]
    }
   ],
   "source": [
    "d=[1,2,4.5,4+7j,\"sert\"]\n",
    "for i in d:\n",
    "    print(type(i), \"type of \",i)"
   ]
  },
  {
   "cell_type": "code",
   "execution_count": 9,
   "metadata": {},
   "outputs": [
    {
     "name": "stdout",
     "output_type": "stream",
     "text": [
      "3\n",
      "[3]\n",
      "6\n",
      "[3, 6]\n",
      "7.6\n",
      "[3, 6, 7.6]\n"
     ]
    }
   ],
   "source": [
    "l=[1,4,5.6]\n",
    "l1=[]\n",
    "for i in l:\n",
    "    print(i+2)\n",
    "    l1.append(i+2)\n",
    "    print(l1)"
   ]
  },
  {
   "cell_type": "code",
   "execution_count": 10,
   "metadata": {},
   "outputs": [
    {
     "name": "stdout",
     "output_type": "stream",
     "text": [
      "2\n",
      "45\n",
      "78\n",
      "12\n"
     ]
    }
   ],
   "source": [
    "l=[2,45,78,12,\"sdfg\",6+7j,[56,45,78]]\n",
    "for i in l:\n",
    "    if type(i)==int:\n",
    "        print(i)\n",
    "    \n",
    "        "
   ]
  },
  {
   "cell_type": "code",
   "execution_count": 30,
   "metadata": {},
   "outputs": [
    {
     "name": "stdout",
     "output_type": "stream",
     "text": [
      "index  0  for an element  1\n",
      "index  1  for an element  45\n",
      "index  2  for an element  78\n",
      "index  3  for an element  12\n",
      "index  4  for an element  sert\n",
      "index  5  for an element  (6+7j)\n",
      "index  6  for an element  [56, 67, 78, 'sdfgh']\n"
     ]
    }
   ],
   "source": [
    "l=[1,45,78,12,\"sert\",6+7j,[56,67,78,\"sdfgh\"]]\n",
    "for i in range(len(l)):\n",
    "    print(\"index \",i,\" for an element \",l[i])"
   ]
  },
  {
   "cell_type": "code",
   "execution_count": 16,
   "metadata": {},
   "outputs": [
    {
     "name": "stdout",
     "output_type": "stream",
     "text": [
      "0 1\n",
      "1 45\n",
      "2 78\n",
      "3 12\n",
      "4 sert\n",
      "5 (6+7j)\n",
      "6 [56, 67, 78, 'sdfgh']\n"
     ]
    }
   ],
   "source": [
    "for i,j in enumerate(l):\n",
    "    print(i,j)"
   ]
  },
  {
   "cell_type": "code",
   "execution_count": 18,
   "metadata": {},
   "outputs": [
    {
     "data": {
      "text/plain": [
       "[1, 45, 78, 12, 'sert', (6+7j), [56, 67, 78, 'sdfgh']]"
      ]
     },
     "execution_count": 18,
     "metadata": {},
     "output_type": "execute_result"
    }
   ],
   "source": [
    "l"
   ]
  },
  {
   "cell_type": "code",
   "execution_count": 31,
   "metadata": {},
   "outputs": [
    {
     "name": "stdout",
     "output_type": "stream",
     "text": [
      "['s', 'e', 'r', 't']\n"
     ]
    }
   ],
   "source": [
    "for i in l:\n",
    "    if type(i)==str:\n",
    "        l1=[]\n",
    "        for j in i:\n",
    "            l1.append(j)\n",
    "        print(l1)"
   ]
  },
  {
   "cell_type": "code",
   "execution_count": 20,
   "metadata": {},
   "outputs": [
    {
     "data": {
      "text/plain": [
       "[1, 45, 78, 12, 'sert', (6+7j), [56, 67, 78, 'sdfgh']]"
      ]
     },
     "execution_count": 20,
     "metadata": {},
     "output_type": "execute_result"
    }
   ],
   "source": [
    "l"
   ]
  },
  {
   "cell_type": "code",
   "execution_count": 24,
   "metadata": {},
   "outputs": [],
   "source": [
    "l2=[]\n",
    "for i in l:\n",
    "    if type(i) == int:\n",
    "        l2.append(i*i)\n",
    "        "
   ]
  },
  {
   "cell_type": "code",
   "execution_count": 25,
   "metadata": {},
   "outputs": [
    {
     "data": {
      "text/plain": [
       "[1, 2025, 6084, 144]"
      ]
     },
     "execution_count": 25,
     "metadata": {},
     "output_type": "execute_result"
    }
   ],
   "source": [
    "l2"
   ]
  },
  {
   "cell_type": "code",
   "execution_count": 26,
   "metadata": {},
   "outputs": [
    {
     "data": {
      "text/plain": [
       "[1, 2025, 6084, 144]"
      ]
     },
     "execution_count": 26,
     "metadata": {},
     "output_type": "execute_result"
    }
   ],
   "source": [
    "l2"
   ]
  },
  {
   "cell_type": "code",
   "execution_count": 32,
   "metadata": {},
   "outputs": [
    {
     "name": "stdout",
     "output_type": "stream",
     "text": [
      "name\n",
      "emailid\n",
      "phno\n",
      "add\n"
     ]
    }
   ],
   "source": [
    "l=[\"name\", \"emailid\", \"phno\", \"add\"]\n",
    "for i in l:\n",
    "    print(i)"
   ]
  },
  {
   "cell_type": "code",
   "execution_count": 34,
   "metadata": {},
   "outputs": [
    {
     "name": "stdout",
     "output_type": "stream",
     "text": [
      "i\n",
      "n\n",
      "e\n",
      "u\n",
      "r\n",
      "o\n",
      "n\n"
     ]
    }
   ],
   "source": [
    "s=\"ineuron\"\n",
    "for i in s:\n",
    "    print(i)"
   ]
  },
  {
   "cell_type": "code",
   "execution_count": 35,
   "metadata": {},
   "outputs": [
    {
     "data": {
      "text/plain": [
       "['name', 'emailid', 'phno', 'add']"
      ]
     },
     "execution_count": 35,
     "metadata": {},
     "output_type": "execute_result"
    }
   ],
   "source": [
    "l"
   ]
  },
  {
   "cell_type": "code",
   "execution_count": 36,
   "metadata": {},
   "outputs": [
    {
     "name": "stdout",
     "output_type": "stream",
     "text": [
      "name\n",
      "emailid\n",
      "phno\n",
      "add\n",
      "if for loop is not going to complete itself then it will come to else\n"
     ]
    }
   ],
   "source": [
    "for i in l:\n",
    "    print(i)\n",
    "else:\n",
    "    print(\"if for loop is not going to complete itself then it will come to else\")"
   ]
  },
  {
   "cell_type": "code",
   "execution_count": 37,
   "metadata": {},
   "outputs": [
    {
     "name": "stdout",
     "output_type": "stream",
     "text": [
      "name\n",
      "emailid\n"
     ]
    }
   ],
   "source": [
    "for i in l:\n",
    "    if i == \"phno\":\n",
    "        break\n",
    "    print(i)\n",
    "else:\n",
    "    print(\"Not print\")"
   ]
  },
  {
   "cell_type": "code",
   "execution_count": 2,
   "metadata": {},
   "outputs": [],
   "source": [
    "s =\"dfghj\"\n",
    "for i in s:\n",
    "    if i==\"h\":\n",
    "        break\n",
    "else:\n",
    "    print(\"dont exe is unless and untill it is nor printing s\")"
   ]
  },
  {
   "cell_type": "code",
   "execution_count": 5,
   "metadata": {},
   "outputs": [
    {
     "name": "stdout",
     "output_type": "stream",
     "text": [
      "1\n",
      "2\n",
      "3\n",
      "4\n",
      "5\n"
     ]
    }
   ],
   "source": [
    "a = 1\n",
    "while a <6:\n",
    "    print(a)\n",
    "    a= a +1"
   ]
  },
  {
   "cell_type": "code",
   "execution_count": 3,
   "metadata": {},
   "outputs": [
    {
     "data": {
      "text/plain": [
       "6"
      ]
     },
     "execution_count": 3,
     "metadata": {},
     "output_type": "execute_result"
    }
   ],
   "source": [
    "a"
   ]
  },
  {
   "cell_type": "code",
   "execution_count": 4,
   "metadata": {},
   "outputs": [
    {
     "data": {
      "text/plain": [
       "6"
      ]
     },
     "execution_count": 4,
     "metadata": {},
     "output_type": "execute_result"
    }
   ],
   "source": [
    "a"
   ]
  },
  {
   "cell_type": "code",
   "execution_count": 6,
   "metadata": {},
   "outputs": [
    {
     "name": "stdout",
     "output_type": "stream",
     "text": [
      "1\n",
      "2\n",
      "3\n",
      "4\n"
     ]
    }
   ],
   "source": [
    "a = 1\n",
    "while a < 5:\n",
    "    print(a)\n",
    "    if a==4:\n",
    "        break\n",
    "    a = a+1"
   ]
  },
  {
   "cell_type": "code",
   "execution_count": 4,
   "metadata": {},
   "outputs": [
    {
     "name": "stdout",
     "output_type": "stream",
     "text": [
      "1\n",
      "2\n",
      "3\n",
      "4\n"
     ]
    }
   ],
   "source": [
    "a=1\n",
    "while a < 5:\n",
    "    print(a)\n",
    "    a= a+1\n",
    "    if a == 3:\n",
    "        continue\n",
    "        "
   ]
  },
  {
   "cell_type": "code",
   "execution_count": 5,
   "metadata": {},
   "outputs": [
    {
     "data": {
      "text/plain": [
       "5"
      ]
     },
     "execution_count": 5,
     "metadata": {},
     "output_type": "execute_result"
    }
   ],
   "source": [
    "a"
   ]
  },
  {
   "cell_type": "code",
   "execution_count": 11,
   "metadata": {},
   "outputs": [
    {
     "data": {
      "text/plain": [
       "5"
      ]
     },
     "execution_count": 11,
     "metadata": {},
     "output_type": "execute_result"
    }
   ],
   "source": [
    "a"
   ]
  },
  {
   "cell_type": "code",
   "execution_count": 12,
   "metadata": {},
   "outputs": [],
   "source": [
    "while a<5:\n",
    "    pass"
   ]
  },
  {
   "cell_type": "code",
   "execution_count": 20,
   "metadata": {},
   "outputs": [],
   "source": [
    "l=\"ser\""
   ]
  },
  {
   "cell_type": "code",
   "execution_count": 21,
   "metadata": {},
   "outputs": [],
   "source": [
    "for i in l:\n",
    "    pass"
   ]
  },
  {
   "cell_type": "code",
   "execution_count": 22,
   "metadata": {},
   "outputs": [
    {
     "data": {
      "text/plain": [
       "[0, 1, 2, 3, 4, 5]"
      ]
     },
     "execution_count": 22,
     "metadata": {},
     "output_type": "execute_result"
    }
   ],
   "source": [
    "list(range(6))\n",
    "    "
   ]
  },
  {
   "cell_type": "code",
   "execution_count": 23,
   "metadata": {},
   "outputs": [
    {
     "data": {
      "text/plain": [
       "[0, 1, 2, 3, 4, 5, 6]"
      ]
     },
     "execution_count": 23,
     "metadata": {},
     "output_type": "execute_result"
    }
   ],
   "source": [
    "list(range(0,7))"
   ]
  },
  {
   "cell_type": "code",
   "execution_count": 24,
   "metadata": {},
   "outputs": [
    {
     "data": {
      "text/plain": [
       "[4, 5, 6, 7, 8, 9, 10, 11, 12, 13, 14, 15, 16, 17, 18, 19, 20, 21, 22, 23, 24]"
      ]
     },
     "execution_count": 24,
     "metadata": {},
     "output_type": "execute_result"
    }
   ],
   "source": [
    "list(range(4,25))"
   ]
  },
  {
   "cell_type": "code",
   "execution_count": 26,
   "metadata": {},
   "outputs": [
    {
     "data": {
      "text/plain": [
       "[3, 5, 7, 9, 11, 13, 15, 17, 19, 21, 23]"
      ]
     },
     "execution_count": 26,
     "metadata": {},
     "output_type": "execute_result"
    }
   ],
   "source": [
    "list(range(3,25,2))"
   ]
  },
  {
   "cell_type": "code",
   "execution_count": 27,
   "metadata": {},
   "outputs": [
    {
     "data": {
      "text/plain": [
       "[]"
      ]
     },
     "execution_count": 27,
     "metadata": {},
     "output_type": "execute_result"
    }
   ],
   "source": [
    "list(range(3,10,-1))"
   ]
  },
  {
   "cell_type": "code",
   "execution_count": 28,
   "metadata": {},
   "outputs": [
    {
     "data": {
      "text/plain": [
       "[13, 12, 11]"
      ]
     },
     "execution_count": 28,
     "metadata": {},
     "output_type": "execute_result"
    }
   ],
   "source": [
    "list(range(13,10,-1))"
   ]
  },
  {
   "cell_type": "code",
   "execution_count": 43,
   "metadata": {},
   "outputs": [
    {
     "name": "stdout",
     "output_type": "stream",
     "text": [
      "adc \r\n",
      "adc adc \r\n",
      "adc adc adc \r\n",
      "adc adc adc adc \r\n",
      "adc adc adc adc adc \r\n"
     ]
    }
   ],
   "source": [
    "a=5\n",
    "for i in range(0,a):\n",
    "    for j in range(0,i+1):\n",
    "        print(\"adc \",end=\"\")\n",
    "    print(\"\\r\")"
   ]
  },
  {
   "cell_type": "code",
   "execution_count": 49,
   "metadata": {},
   "outputs": [
    {
     "name": "stdout",
     "output_type": "stream",
     "text": [
      "+  +  +  +  +  +  \r\n",
      "+  +  +  +  +  \r\n",
      "+  +  +  +  \r\n",
      "+  +  +  \r\n",
      "+  +  \r\n",
      "+  \r\n",
      "\r\n"
     ]
    }
   ],
   "source": [
    "a=7\n",
    "for i in range(a,0,-1):\n",
    "    for j in range(a-i,0):\n",
    "        print(\" \",end=\" \")\n",
    "    for j in range(i-1):\n",
    "        print(\"+ \",end=\" \")\n",
    "    print(\"\\r\")\n",
    "    "
   ]
  },
  {
   "cell_type": "code",
   "execution_count": null,
   "metadata": {},
   "outputs": [],
   "source": [
    "a=7\n",
    "for i in range(a,0,-1):\n",
    "    for j in range(a-i,0):\n",
    "        print(\" \",end=\" \")\n",
    "    for j in range(i-1):\n",
    "        print(\"+ \",end=\" \")\n",
    "    print(\"\\r\")"
   ]
  },
  {
   "cell_type": "code",
   "execution_count": 64,
   "metadata": {},
   "outputs": [
    {
     "name": "stdout",
     "output_type": "stream",
     "text": [
      "6\n",
      "5\n",
      "4\n",
      "3\n",
      "2\n",
      "1\n"
     ]
    }
   ],
   "source": [
    "t=(1,2,3,4,5,6)\n",
    "for i in range(len(t)-1,-1,-1):\n",
    "    print(t[i])"
   ]
  },
  {
   "cell_type": "code",
   "execution_count": 65,
   "metadata": {},
   "outputs": [],
   "source": [
    "d={\"a\":\"fghj\", \"b\":\"yuio\",\"c\":[1,2,3,4],\"d\":\"(4,5,6,7)\",\"e\":\"wert\"}\n"
   ]
  },
  {
   "cell_type": "code",
   "execution_count": 68,
   "metadata": {},
   "outputs": [
    {
     "name": "stdout",
     "output_type": "stream",
     "text": [
      "a fghj\n",
      "b yuio\n",
      "c [1, 2, 3, 4]\n",
      "d (4,5,6,7)\n",
      "e wert\n"
     ]
    }
   ],
   "source": [
    "for i in d:\n",
    "    print(i,d[i])"
   ]
  },
  {
   "cell_type": "code",
   "execution_count": 70,
   "metadata": {},
   "outputs": [
    {
     "name": "stdout",
     "output_type": "stream",
     "text": [
      "('a', 'fghj')\n",
      "('b', 'yuio')\n",
      "('c', [1, 2, 3, 4])\n",
      "('d', '(4,5,6,7)')\n",
      "('e', 'wert')\n"
     ]
    }
   ],
   "source": [
    "for i in d.items():\n",
    "    print(i)"
   ]
  },
  {
   "cell_type": "code",
   "execution_count": 71,
   "metadata": {},
   "outputs": [],
   "source": [
    "s={3,454,6,6,6,56,56,56,7,7,67,9,7,8,8,8,7,7,7}"
   ]
  },
  {
   "cell_type": "code",
   "execution_count": 72,
   "metadata": {},
   "outputs": [
    {
     "data": {
      "text/plain": [
       "{3, 6, 7, 8, 9, 56, 67, 454}"
      ]
     },
     "execution_count": 72,
     "metadata": {},
     "output_type": "execute_result"
    }
   ],
   "source": [
    "s"
   ]
  },
  {
   "cell_type": "code",
   "execution_count": 73,
   "metadata": {},
   "outputs": [
    {
     "name": "stdout",
     "output_type": "stream",
     "text": [
      "3\n",
      "67\n",
      "454\n",
      "7\n",
      "6\n",
      "9\n",
      "8\n",
      "56\n"
     ]
    }
   ],
   "source": [
    "for i in s:\n",
    "    print(i)"
   ]
  },
  {
   "cell_type": "code",
   "execution_count": 75,
   "metadata": {},
   "outputs": [
    {
     "name": "stdout",
     "output_type": "stream",
     "text": [
      "26\n"
     ]
    }
   ],
   "source": [
    "s=\"this is basic python class\"\n",
    "count = 0\n",
    "for i in s:\n",
    "    #count = count+1\n",
    "    count+=1\n",
    "print(count)"
   ]
  },
  {
   "cell_type": "code",
   "execution_count": 77,
   "metadata": {},
   "outputs": [
    {
     "name": "stdout",
     "output_type": "stream",
     "text": [
      "s\n",
      "s\n",
      "a\n",
      "l\n",
      "c\n",
      " \n",
      "n\n",
      "o\n",
      "h\n",
      "t\n",
      "y\n",
      "p\n",
      " \n",
      "c\n",
      "i\n",
      "s\n",
      "a\n",
      "b\n",
      " \n",
      "s\n",
      "i\n",
      " \n",
      "s\n",
      "i\n",
      "h\n",
      "t\n"
     ]
    }
   ],
   "source": [
    "for i in range(len(s)-1,-1,-1):\n",
    "    print(s[i])"
   ]
  },
  {
   "cell_type": "code",
   "execution_count": 80,
   "metadata": {},
   "outputs": [
    {
     "name": "stdout",
     "output_type": "stream",
     "text": [
      "ssalc nohtyp cisab si siht"
     ]
    }
   ],
   "source": [
    "i=len(s)-1\n",
    "while (i>=0):\n",
    "    print(s[i],end=\"\")\n",
    "    i=i-1"
   ]
  },
  {
   "cell_type": "code",
   "execution_count": 85,
   "metadata": {},
   "outputs": [
    {
     "name": "stdout",
     "output_type": "stream",
     "text": [
      "vowel i\n",
      "not vowel n\n",
      "vowel e\n",
      "vowel u\n",
      "not vowel r\n",
      "vowel o\n",
      "not vowel n\n"
     ]
    }
   ],
   "source": [
    "s=\"ineuron\"\n",
    "v=\"AaEeIiOoUu\"\n",
    "for i in s:\n",
    "    if i in v:\n",
    "        print(\"vowel\", i)\n",
    "    else :\n",
    "        print(\"not vowel\",i)"
   ]
  },
  {
   "cell_type": "code",
   "execution_count": 92,
   "metadata": {},
   "outputs": [
    {
     "name": "stdout",
     "output_type": "stream",
     "text": [
      "wert\n",
      "Not palindrome\n"
     ]
    }
   ],
   "source": [
    "s=input()\n",
    "v=s[::-1]\n",
    "if s==v:\n",
    "    print(\"palindrome\")\n",
    "else:\n",
    "    print(\"Not palindrome\")\n",
    "    "
   ]
  },
  {
   "cell_type": "code",
   "execution_count": 97,
   "metadata": {},
   "outputs": [
    {
     "name": "stdout",
     "output_type": "stream",
     "text": [
      "yuyt\n",
      "not palindrome\n"
     ]
    }
   ],
   "source": [
    "s=input()\n",
    "for i in range(len(s)):\n",
    "    if s[i]==s[len(s)-i-1]:\n",
    "        print(\"palindrome\")\n",
    "        break\n",
    "else:\n",
    "    print(\"not palindrome\")\n",
    "    "
   ]
  },
  {
   "cell_type": "code",
   "execution_count": 108,
   "metadata": {},
   "outputs": [],
   "source": [
    "d={\"india\":\"IN\",\"canada\":\"CA\",\"china\":\"CH\",\"united state\":\"US\"}\n",
    "e=[]\n",
    "f=[]\n",
    "for i in d:\n",
    "    if len(i) <= 5:\n",
    "        e.append(i)\n",
    "    else:\n",
    "        f.append(i)"
   ]
  },
  {
   "cell_type": "code",
   "execution_count": 109,
   "metadata": {},
   "outputs": [
    {
     "data": {
      "text/plain": [
       "['india', 'china']"
      ]
     },
     "execution_count": 109,
     "metadata": {},
     "output_type": "execute_result"
    }
   ],
   "source": [
    "e"
   ]
  },
  {
   "cell_type": "code",
   "execution_count": 110,
   "metadata": {},
   "outputs": [
    {
     "data": {
      "text/plain": [
       "['canada', 'united state']"
      ]
     },
     "execution_count": 110,
     "metadata": {},
     "output_type": "execute_result"
    }
   ],
   "source": [
    "f"
   ]
  },
  {
   "cell_type": "code",
   "execution_count": 112,
   "metadata": {},
   "outputs": [
    {
     "name": "stdout",
     "output_type": "stream",
     "text": [
      "14\n",
      "45\n"
     ]
    }
   ],
   "source": [
    "d_1 = {\"ineuron\":{\"a\":14,\"b\":10,\"c\":4},\"course\":{\"d\":45,\"e\":34,\"f\":1}}\n",
    "u=[]\n",
    "for i in d_1.values():\n",
    "    for j in i.values():\n",
    "        u.append(j)\n",
    "    print(max(u))"
   ]
  },
  {
   "cell_type": "code",
   "execution_count": 115,
   "metadata": {},
   "outputs": [
    {
     "name": "stdout",
     "output_type": "stream",
     "text": [
      "14\n",
      "45\n"
     ]
    }
   ],
   "source": [
    "d_1 = {\"ineuron\":{\"a\":14,\"b\":10,\"c\":4},\"course\":{\"d\":45,\"e\":34,\"f\":1}}\n",
    "for i in d_1.values():\n",
    "    print(max(i.values()))"
   ]
  },
  {
   "cell_type": "code",
   "execution_count": null,
   "metadata": {},
   "outputs": [],
   "source": []
  }
 ],
 "metadata": {
  "kernelspec": {
   "display_name": "Python 3",
   "language": "python",
   "name": "python3"
  },
  "language_info": {
   "codemirror_mode": {
    "name": "ipython",
    "version": 3
   },
   "file_extension": ".py",
   "mimetype": "text/x-python",
   "name": "python",
   "nbconvert_exporter": "python",
   "pygments_lexer": "ipython3",
   "version": "3.7.10"
  }
 },
 "nbformat": 4,
 "nbformat_minor": 4
}
